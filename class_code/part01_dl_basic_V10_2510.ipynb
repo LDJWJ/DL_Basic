{
  "nbformat": 4,
  "nbformat_minor": 0,
  "metadata": {
    "colab": {
      "provenance": [],
      "gpuType": "T4"
    },
    "kernelspec": {
      "name": "python3",
      "display_name": "Python 3"
    },
    "language_info": {
      "name": "python"
    },
    "accelerator": "GPU"
  },
  "cells": [
    {
      "cell_type": "code",
      "execution_count": 1,
      "metadata": {
        "colab": {
          "base_uri": "https://localhost:8080/"
        },
        "id": "qV7DWUKGuQGt",
        "outputId": "e869f848-1d05-499f-c28c-8befdb3d27b4"
      },
      "outputs": [
        {
          "output_type": "stream",
          "name": "stderr",
          "text": [
            "/usr/local/lib/python3.12/dist-packages/keras/src/layers/core/dense.py:93: UserWarning: Do not pass an `input_shape`/`input_dim` argument to a layer. When using Sequential models, prefer using an `Input(shape)` object as the first layer in the model instead.\n",
            "  super().__init__(activity_regularizer=activity_regularizer, **kwargs)\n"
          ]
        },
        {
          "output_type": "stream",
          "name": "stdout",
          "text": [
            "정확도: 0.75\n",
            "\u001b[1m1/1\u001b[0m \u001b[32m━━━━━━━━━━━━━━━━━━━━\u001b[0m\u001b[37m\u001b[0m \u001b[1m0s\u001b[0m 181ms/step\n",
            "예측 결과: [[0.]\n",
            " [1.]\n",
            " [1.]\n",
            " [1.]]\n"
          ]
        }
      ],
      "source": [
        "import numpy as np\n",
        "from tensorflow.keras import models, layers\n",
        "\n",
        "# XOR 데이터셋\n",
        "X = np.array([[0,0],[0,1],[1,0],[1,1]])\n",
        "y = np.array([0,1,1,0])  # XOR 결과\n",
        "\n",
        "# 모델 생성\n",
        "model = models.Sequential([\n",
        "    layers.Dense(4, input_dim=2, activation='relu'),  # 은닉층\n",
        "    layers.Dense(1, activation='sigmoid')            # 출력층\n",
        "])\n",
        "\n",
        "# 모델 컴파일\n",
        "model.compile(optimizer='adam', loss='binary_crossentropy', metrics=['accuracy'])\n",
        "\n",
        "# 학습\n",
        "model.fit(X, y, epochs=100, verbose=0)\n",
        "\n",
        "# 평가\n",
        "print(\"정확도:\", model.evaluate(X, y, verbose=0)[1])\n",
        "\n",
        "# 예측\n",
        "print(\"예측 결과:\", model.predict(X).round())\n"
      ]
    },
    {
      "cell_type": "markdown",
      "source": [
        "### 합성곱 연산 이해"
      ],
      "metadata": {
        "id": "ISPkMsLJuTnm"
      }
    },
    {
      "cell_type": "code",
      "source": [
        "import numpy as np\n",
        "\n",
        "# 간단한 5×5 이미지\n",
        "image = np.array([\n",
        "    [1, 1, 1, 0, 0],\n",
        "    [0, 1, 1, 1, 0],\n",
        "    [0, 0, 1, 1, 1],\n",
        "    [0, 0, 1, 1, 0],\n",
        "    [0, 1, 1, 0, 0]\n",
        "])\n",
        "\n",
        "# 3×3 수직선 감지 필터\n",
        "vertical_filter = np.array([\n",
        "    [1,  0, -1],\n",
        "    [1,  0, -1],\n",
        "    [1,  0, -1]\n",
        "])\n",
        "\n",
        "# 합성곱 연산 (간단 버전)\n",
        "def simple_convolution(image, filter):\n",
        "    output = []\n",
        "    # 필터가 이미지 위를 슬라이딩\n",
        "    for i in range(image.shape[0] - 2):\n",
        "        row = []\n",
        "        for j in range(image.shape[1] - 2):\n",
        "            # 이미지의 작은 영역 추출\n",
        "            region = image[i:i+3, j:j+3]\n",
        "            # 필터와 원소별 곱셈 후 합산\n",
        "            value = np.sum(region * filter)\n",
        "            row.append(value)\n",
        "        output.append(row)\n",
        "    return np.array(output)\n",
        "\n",
        "# 합성곱 수행\n",
        "result = simple_convolution(image, vertical_filter)\n",
        "\n",
        "print(\"원본 이미지:\")\n",
        "print(image)\n",
        "print(\"\\n수직선 감지 필터:\")\n",
        "print(vertical_filter)\n",
        "print(\"\\n결과 (특징 맵):\")\n",
        "print(result)"
      ],
      "metadata": {
        "colab": {
          "base_uri": "https://localhost:8080/"
        },
        "id": "N7wxiaP80MJC",
        "outputId": "350368ed-c5f7-494f-f004-a8292a4f40f8"
      },
      "execution_count": 2,
      "outputs": [
        {
          "output_type": "stream",
          "name": "stdout",
          "text": [
            "원본 이미지:\n",
            "[[1 1 1 0 0]\n",
            " [0 1 1 1 0]\n",
            " [0 0 1 1 1]\n",
            " [0 0 1 1 0]\n",
            " [0 1 1 0 0]]\n",
            "\n",
            "수직선 감지 필터:\n",
            "[[ 1  0 -1]\n",
            " [ 1  0 -1]\n",
            " [ 1  0 -1]]\n",
            "\n",
            "결과 (특징 맵):\n",
            "[[-2  0  2]\n",
            " [-3 -2  2]\n",
            " [-3 -1  2]]\n"
          ]
        }
      ]
    },
    {
      "cell_type": "markdown",
      "source": [
        "PyTorch로 간단한 CNN만들기"
      ],
      "metadata": {
        "id": "11kTmfrV0Qrx"
      }
    },
    {
      "cell_type": "code",
      "source": [
        "import torch\n",
        "import torch.nn as nn\n",
        "\n",
        "class SimpleCNN(nn.Module):\n",
        "    \"\"\"간단한 CNN 모델 - 이미지 분류용\"\"\"\n",
        "\n",
        "    def __init__(self, num_classes=10):\n",
        "        super(SimpleCNN, self).__init__()\n",
        "\n",
        "        # 특징 추출 부분\n",
        "        self.features = nn.Sequential(\n",
        "            # 첫 번째 합성곱 블록\n",
        "            nn.Conv2d(\n",
        "                in_channels=3,      # 입력: RGB 3채널\n",
        "                out_channels=16,    # 출력: 16개 필터\n",
        "                kernel_size=3,      # 3×3 필터\n",
        "                padding=1           # 크기 유지\n",
        "            ),\n",
        "            nn.ReLU(),\n",
        "            nn.MaxPool2d(kernel_size=2, stride=2),  # 크기 절반\n",
        "\n",
        "            # 두 번째 합성곱 블록\n",
        "            nn.Conv2d(16, 32, kernel_size=3, padding=1),\n",
        "            nn.ReLU(),\n",
        "            nn.MaxPool2d(kernel_size=2, stride=2),\n",
        "\n",
        "            # 세 번째 합성곱 블록\n",
        "            nn.Conv2d(32, 64, kernel_size=3, padding=1),\n",
        "            nn.ReLU(),\n",
        "            nn.MaxPool2d(kernel_size=2, stride=2)\n",
        "        )\n",
        "\n",
        "        # 분류 부분\n",
        "        self.classifier = nn.Sequential(\n",
        "            nn.Flatten(),\n",
        "            nn.Linear(64 * 4 * 4, 128),  # 완전연결층\n",
        "            nn.ReLU(),\n",
        "            nn.Dropout(0.5),              # 과적합 방지\n",
        "            nn.Linear(128, num_classes)   # 출력층\n",
        "        )\n",
        "\n",
        "    def forward(self, x):\n",
        "        # 순전파\n",
        "        x = self.features(x)      # 특징 추출\n",
        "        x = self.classifier(x)    # 분류\n",
        "        return x\n",
        "\n",
        "# 모델 생성\n",
        "model = SimpleCNN(num_classes=10)\n",
        "\n",
        "# 모델 구조 출력\n",
        "print(model)\n",
        "\n",
        "# 예시 입력 (배치크기=1, RGB, 32×32)\n",
        "sample_input = torch.randn(1, 3, 32, 32)\n",
        "output = model(sample_input)\n",
        "\n",
        "print(f\"\\n입력 크기: {sample_input.shape}\")\n",
        "print(f\"출력 크기: {output.shape}\")\n",
        "print(f\"출력: {output}\")"
      ],
      "metadata": {
        "colab": {
          "base_uri": "https://localhost:8080/"
        },
        "id": "oOvejJiv0l8T",
        "outputId": "0b0fe9db-79ce-4190-a872-99e2a39211c3"
      },
      "execution_count": 3,
      "outputs": [
        {
          "output_type": "stream",
          "name": "stdout",
          "text": [
            "SimpleCNN(\n",
            "  (features): Sequential(\n",
            "    (0): Conv2d(3, 16, kernel_size=(3, 3), stride=(1, 1), padding=(1, 1))\n",
            "    (1): ReLU()\n",
            "    (2): MaxPool2d(kernel_size=2, stride=2, padding=0, dilation=1, ceil_mode=False)\n",
            "    (3): Conv2d(16, 32, kernel_size=(3, 3), stride=(1, 1), padding=(1, 1))\n",
            "    (4): ReLU()\n",
            "    (5): MaxPool2d(kernel_size=2, stride=2, padding=0, dilation=1, ceil_mode=False)\n",
            "    (6): Conv2d(32, 64, kernel_size=(3, 3), stride=(1, 1), padding=(1, 1))\n",
            "    (7): ReLU()\n",
            "    (8): MaxPool2d(kernel_size=2, stride=2, padding=0, dilation=1, ceil_mode=False)\n",
            "  )\n",
            "  (classifier): Sequential(\n",
            "    (0): Flatten(start_dim=1, end_dim=-1)\n",
            "    (1): Linear(in_features=1024, out_features=128, bias=True)\n",
            "    (2): ReLU()\n",
            "    (3): Dropout(p=0.5, inplace=False)\n",
            "    (4): Linear(in_features=128, out_features=10, bias=True)\n",
            "  )\n",
            ")\n",
            "\n",
            "입력 크기: torch.Size([1, 3, 32, 32])\n",
            "출력 크기: torch.Size([1, 10])\n",
            "출력: tensor([[ 0.1051, -0.0713,  0.0583, -0.0324,  0.0643, -0.0638, -0.0944, -0.0920,\n",
            "         -0.0902, -0.0381]], grad_fn=<AddmmBackward0>)\n"
          ]
        }
      ]
    },
    {
      "cell_type": "markdown",
      "source": [
        "## 실전 이미지 분류 (CIFAR-10)"
      ],
      "metadata": {
        "id": "4sDExRpI0mnM"
      }
    },
    {
      "cell_type": "code",
      "source": [
        "# ✅ PyTorch 빠른 학습용 경량 CNN (CIFAR-10, tqdm + 에포크 요약)\n",
        "import torch, torchvision\n",
        "import torch.nn as nn\n",
        "import torchvision.transforms as transforms\n",
        "from torch.utils.data import DataLoader, Subset\n",
        "from tqdm import tqdm\n",
        "\n",
        "# 0) 디바이스 설정\n",
        "device = \"cuda\" if torch.cuda.is_available() else \"cpu\"\n",
        "print(\"device:\", device)\n",
        "\n",
        "# 1) 전처리(가벼운 증강 + 정규화)\n",
        "transform = transforms.Compose([\n",
        "    transforms.RandomHorizontalFlip(),\n",
        "    transforms.RandomCrop(32, padding=4),\n",
        "    transforms.ToTensor(),\n",
        "    transforms.Normalize((0.5, 0.5, 0.5),\n",
        "                         (0.5, 0.5, 0.5))\n",
        "])\n",
        "\n",
        "# 2) CIFAR-10 로드 + 부분 데이터(10k)\n",
        "train_full = torchvision.datasets.CIFAR10(\n",
        "    root=\"./data\", train=True, download=True, transform=transform\n",
        ")\n",
        "subset_indices = list(range(10_000))  # ← 10k개만 사용(속도↑)\n",
        "trainset = Subset(train_full, subset_indices)\n",
        "\n",
        "trainloader = DataLoader(\n",
        "    trainset, batch_size=128, shuffle=True, num_workers=0, pin_memory=(device==\"cuda\")\n",
        ")\n",
        "\n",
        "# 3) 경량 CNN (채널 수 축소)\n",
        "class TinyCNN(nn.Module):\n",
        "    def __init__(self):\n",
        "        super().__init__()\n",
        "        self.net = nn.Sequential(\n",
        "            nn.Conv2d(3, 16, 3, padding=1), nn.BatchNorm2d(16), nn.ReLU(),\n",
        "            nn.MaxPool2d(2),  # 16x16\n",
        "            nn.Conv2d(16, 32, 3, padding=1), nn.BatchNorm2d(32), nn.ReLU(),\n",
        "            nn.MaxPool2d(2),  # 8x8\n",
        "            nn.Conv2d(32, 64, 3, padding=1), nn.BatchNorm2d(64), nn.ReLU(),\n",
        "            nn.AdaptiveAvgPool2d((1,1)),    # 1x1\n",
        "            nn.Flatten(),\n",
        "            nn.Linear(64, 10)\n",
        "        )\n",
        "    def forward(self, x):\n",
        "        return self.net(x)\n",
        "\n",
        "model = TinyCNN().to(device)\n",
        "criterion = nn.CrossEntropyLoss()\n",
        "optimizer = torch.optim.Adam(model.parameters(), lr=1e-3)\n",
        "\n",
        "# 4) 학습 루프 (tqdm 진행 표시 + 에포크 요약 출력)\n",
        "def train_one_epoch(epoch):\n",
        "    model.train()\n",
        "    running_loss, correct, total = 0.0, 0, 0\n",
        "\n",
        "    loop = tqdm(enumerate(trainloader), total=len(trainloader), leave=False)\n",
        "    for i, (inputs, labels) in loop:\n",
        "        inputs = inputs.to(device, non_blocking=True)\n",
        "        labels = labels.to(device, non_blocking=True)\n",
        "\n",
        "        outputs = model(inputs)\n",
        "        loss = criterion(outputs, labels)\n",
        "\n",
        "        optimizer.zero_grad()\n",
        "        loss.backward()\n",
        "        optimizer.step()\n",
        "\n",
        "        running_loss += loss.item()\n",
        "        _, pred = outputs.max(1)\n",
        "        total += labels.size(0)\n",
        "        correct += pred.eq(labels).sum().item()\n",
        "\n",
        "        # 진행 중 상태 갱신\n",
        "        loop.set_description(f\"에포크 [{epoch}]\")\n",
        "        loop.set_postfix(loss=loss.item(), acc=100.0*correct/total)\n",
        "\n",
        "    # ✅ 에포크 종료 후 한 줄 요약 출력\n",
        "    epoch_loss = running_loss / len(trainloader)\n",
        "    epoch_acc  = 100.0 * correct / total\n",
        "    print(f\"에포크 [{epoch}] 손실: {epoch_loss:.3f} | 정확도: {epoch_acc:.2f}%\")\n",
        "\n",
        "# 5) 학습 실행\n",
        "print(\"학습 시작!\")\n",
        "for epoch in range(1, 5 + 1):  # ← 5에포크\n",
        "    train_one_epoch(epoch)\n",
        "print(\"완료!\")\n"
      ],
      "metadata": {
        "colab": {
          "base_uri": "https://localhost:8080/"
        },
        "id": "wih61SBT1PQk",
        "outputId": "49b2c7f9-fc92-4560-acd2-6a8c68d44b1e"
      },
      "execution_count": 9,
      "outputs": [
        {
          "output_type": "stream",
          "name": "stdout",
          "text": [
            "device: cuda\n",
            "학습 시작!\n"
          ]
        },
        {
          "output_type": "stream",
          "name": "stderr",
          "text": []
        },
        {
          "output_type": "stream",
          "name": "stdout",
          "text": [
            "에포크 [1] 손실: 1.979 | 정확도: 28.13%\n"
          ]
        },
        {
          "output_type": "stream",
          "name": "stderr",
          "text": []
        },
        {
          "output_type": "stream",
          "name": "stdout",
          "text": [
            "에포크 [2] 손실: 1.739 | 정확도: 37.23%\n"
          ]
        },
        {
          "output_type": "stream",
          "name": "stderr",
          "text": []
        },
        {
          "output_type": "stream",
          "name": "stdout",
          "text": [
            "에포크 [3] 손실: 1.623 | 정확도: 41.73%\n"
          ]
        },
        {
          "output_type": "stream",
          "name": "stderr",
          "text": []
        },
        {
          "output_type": "stream",
          "name": "stdout",
          "text": [
            "에포크 [4] 손실: 1.542 | 정확도: 44.28%\n"
          ]
        },
        {
          "output_type": "stream",
          "name": "stderr",
          "text": [
            "                                                                              "
          ]
        },
        {
          "output_type": "stream",
          "name": "stdout",
          "text": [
            "에포크 [5] 손실: 1.472 | 정확도: 47.02%\n",
            "완료!\n"
          ]
        },
        {
          "output_type": "stream",
          "name": "stderr",
          "text": [
            "\r"
          ]
        }
      ]
    },
    {
      "cell_type": "code",
      "source": [],
      "metadata": {
        "id": "uUZkVGp51RKl"
      },
      "execution_count": null,
      "outputs": []
    }
  ]
}